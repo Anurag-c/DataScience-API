{
 "cells": [
  {
   "cell_type": "code",
   "execution_count": 1,
   "metadata": {},
   "outputs": [
    {
     "data": {
      "image/png": "[encoded data removed]",
      "text/plain": [
       "<Figure size 432x288 with 1 Axes>"
      ]
     },
     "metadata": {
      "needs_background": "light"
     },
     "output_type": "display_data"
    },
    {
     "name": "stdout",
     "output_type": "stream",
     "text": [
      "Delhi-NCR =  7947 Rest Of India =  705\n"
     ]
    }
   ],
   "source": [
    "import pandas as pd\n",
    "import matplotlib.pyplot as plt\n",
    "\n",
    "df = pd.read_csv('zomato.csv', encoding='ISO-8859-1')\n",
    "\n",
    "# cities in delhi-ncr\n",
    "cities = ['New Delhi', 'Ghaziabad', 'Noida', 'Gurgaon', 'Faridabad'] \n",
    "\n",
    "#country code of india is 1, so no.of rows with country code 1 => total restaurants in India\n",
    "total = df['Country Code'].value_counts()[1]\n",
    "\n",
    "#for counting no.of cities in delhi-ncr\n",
    "c = 0\n",
    "\n",
    "#count no.of rows with cities in delhi-ncr => no.of restuarants in delhi-ncr\n",
    "for i in df['City']:\n",
    "    if i.strip() in cities:\n",
    "        c += 1\n",
    "        \n",
    "x = ['Delhi-NCR','Rest Of India']\n",
    "y = [c,total-c]\n",
    "\n",
    "plt.xlabel('states')\n",
    "plt.ylabel('number of restaurants')\n",
    "plt.bar(x,y,color = 'orange')\n",
    "plt.show()\n",
    "print(\"Delhi-NCR = \",c,\"Rest Of India = \",total-c)"
   ]
  },
  {
   "cell_type": "code",
   "execution_count": 4,
   "metadata": {},
   "outputs": [
    {
     "name": "stdout",
     "output_type": "stream",
     "text": [
      "{'German', 'Cajun', 'Malwani', 'BBQ'}\n",
      "Malwani\n",
      "BBQ\n"
     ]
    }
   ],
   "source": [
    "india_df = df[df['Country Code'] == 1] # we need only indian cities so country code of india is 1\n",
    "\n",
    "ncr_cuisines = set() #set of cuisines of ncr cities\n",
    "rest_of_india_cuisines = set() #set of cuisines of not ncr indian cities\n",
    "\n",
    "## adding unique cuisines to respective sets\n",
    "for i in india_df.index:\n",
    "    cuisines = india_df['Cuisines'].loc[i].split(',')# to get all separate cuisines\n",
    "    is_ncr_city = india_df['City'].loc[i] in cities #whether to add to ncr or rest of india\n",
    "    for j in cuisines:\n",
    "        if (is_ncr_city) :\n",
    "            ncr_cuisines.add(j.strip())\n",
    "        else:\n",
    "            rest_of_india_cuisines.add(j.strip())\n",
    "\n",
    "not_in_ncr_accr_to_dataset = (rest_of_india_cuisines) - (ncr_cuisines)\n",
    "print(not_in_ncr_accr_to_dataset)\n",
    "\n",
    "# checking whether the data in csv file is correct or not\n",
    "import requests as rq\n",
    "user_key = \"8b0da456b5f2c9fdb933e7d1b990e536\"\n",
    "basic_api = \"https://developers.zomato.com/api/v2.1\"\n",
    "\n",
    "h = {\"Accept\": \"application/json\", \"user-key\" : user_key}\n",
    "p = {\"city_id\" : 1}\n",
    "res = rq.get(basic_api + \"/cuisines\", params = p, headers = h)\n",
    "data = res.json()\n",
    "\n",
    "cuisines_from_api_in_delhi = set({})\n",
    "\n",
    "for i in data['cuisines']:\n",
    "    cuisines_from_api_in_delhi.add(i['cuisine']['cuisine_name'])\n",
    "#i have created a set of all the uniques cuisines which i found from the zomato api.\n",
    "# now we have two things ---->   1. cuisines_from_api_in_delhi          2. not_in_ncr_accr_to_dataset\n",
    "\n",
    "#now i have printed all those cuisines which are actually in delhi ncr but not mentioned in the dataset.\n",
    "for i in not_in_ncr_accr_to_dataset:\n",
    "    if i in cuisines_from_api_in_delhi:\n",
    "        print(i)\n",
    "#following is the list of those cuisines which are not in delhi_ncr according to the dataset. but these are actually available\n",
    "#in delhi-ncr according to zomato api. it seems like it is just due to incomplete dataset."
   ]
  },
  {
   "cell_type": "code",
   "execution_count": 5,
   "metadata": {},
   "outputs": [
    {
     "name": "stdout",
     "output_type": "stream",
     "text": [
      "\n",
      "*** Delhi - NCR ***\n",
      "\n",
      "North Indian : 3597\n",
      "Chinese : 2448\n",
      "Fast Food : 1866\n",
      "Mughlai : 933\n",
      "Bakery : 697\n",
      "South Indian : 569\n",
      "Continental : 547\n",
      "Desserts : 542\n",
      "Street Food : 538\n",
      "Italian : 535\n",
      "\n",
      "*** Rest Of India ***\n",
      "\n",
      "North Indian : 349\n",
      "Chinese : 242\n",
      "Continental : 177\n",
      "Italian : 147\n",
      "Cafe : 136\n",
      "Fast Food : 97\n",
      "South Indian : 62\n",
      "Mughlai : 59\n",
      "Desserts : 55\n",
      "Mexican : 50\n"
     ]
    }
   ],
   "source": [
    "ncr_cuisine_dict = {} #dictionary for cuisines and respective counts w.r.t ncr restaurants\n",
    "rest_of_india_cuisine_dict = {} #dictionary for cuisines and respective counts w.r.t non ncr restaurants which are in india\n",
    "\n",
    "for i in india_df.index:\n",
    "    cuisines = india_df['Cuisines'].loc[i].split(',') # to get all separate cuisines\n",
    "    is_ncr_city = india_df['City'].loc[i] in cities  #whether to add to ncr or rest of india\n",
    "    for j in cuisines:\n",
    "        if (is_ncr_city) :\n",
    "            if j.strip() in ncr_cuisine_dict : ncr_cuisine_dict[j.strip()] += 1\n",
    "            else : ncr_cuisine_dict[j.strip()] = 1\n",
    "        else:\n",
    "            if j.strip() in rest_of_india_cuisine_dict : rest_of_india_cuisine_dict[j.strip()] += 1\n",
    "            else : rest_of_india_cuisine_dict[j.strip()] = 1\n",
    "        \n",
    "#now we have got the required data and we have to print top 10\n",
    "import numpy as np\n",
    "\n",
    "# sort ncr cuisines and print top 10\n",
    "ncr_keys = np.array(list(ncr_cuisine_dict.keys()))\n",
    "ncr_values = np.array(list(ncr_cuisine_dict.values()))\n",
    "\n",
    "index = np.argsort(ncr_values)\n",
    "ncr_keys = ncr_keys[index][::-1]\n",
    "ncr_values = ncr_values[index][::-1]\n",
    "\n",
    "print(\"\\n*** Delhi - NCR ***\\n\")\n",
    "for i in range(0,10):\n",
    "    print(ncr_keys[i],\":\",ncr_values[i])\n",
    "\n",
    "\n",
    "#sort rest of inida cuisines and print top 10\n",
    "rest_of_india_keys = np.array(list(rest_of_india_cuisine_dict.keys()))\n",
    "rest_of_india_values = np.array(list(rest_of_india_cuisine_dict.values()))\n",
    "\n",
    "index = np.argsort(rest_of_india_values)\n",
    "rest_of_india_keys = rest_of_india_keys[index][::-1]\n",
    "rest_of_india_values = rest_of_india_values[index][::-1]\n",
    "\n",
    "print(\"\\n*** Rest Of India ***\\n\")\n",
    "for i in range(0,10):\n",
    "    print(rest_of_india_keys[i],\":\",rest_of_india_values[i])\n"
   ]
  },
  {
   "cell_type": "code",
   "execution_count": null,
   "metadata": {},
   "outputs": [],
   "source": []
  }
 ],
 "metadata": {
  "kernelspec": {
   "display_name": "Python 3",
   "language": "python",
   "name": "python3"
  },
  "language_info": {
   "codemirror_mode": {
    "name": "ipython",
    "version": 3
   },
   "file_extension": ".py",
   "mimetype": "text/x-python",
   "name": "python",
   "nbconvert_exporter": "python",
   "pygments_lexer": "ipython3",
   "version": "3.8.3"
  }
 },
 "nbformat": 4,
 "nbformat_minor": 4
}
